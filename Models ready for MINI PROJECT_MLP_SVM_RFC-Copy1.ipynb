{
 "cells": [
  {
   "cell_type": "markdown",
   "id": "2eec9db7",
   "metadata": {},
   "source": [
    "# Importing Dependencies "
   ]
  },
  {
   "cell_type": "code",
   "execution_count": 1,
   "id": "47c30e03",
   "metadata": {},
   "outputs": [
    {
     "name": "stderr",
     "output_type": "stream",
     "text": [
      "C:\\Users\\hp\\anaconda3\\lib\\site-packages\\pydub\\utils.py:170: RuntimeWarning: Couldn't find ffmpeg or avconv - defaulting to ffmpeg, but may not work\n",
      "  warn(\"Couldn't find ffmpeg or avconv - defaulting to ffmpeg, but may not work\", RuntimeWarning)\n"
     ]
    }
   ],
   "source": [
    "import pandas as pd\n",
    "import numpy as np\n",
    "import glob\n",
    "import soundfile\n",
    "import os\n",
    "import sys\n",
    "from pydub import AudioSegment\n",
    "from pydub.playback import play\n",
    "\n",
    "import matplotlib.pyplot as plt\n",
    "\n",
    "import warnings\n",
    "\n",
    "import librosa\n",
    "import librosa.display\n",
    "import seaborn as sn\n",
    "\n",
    "\n",
    "from sklearn.preprocessing import StandardScaler,OneHotEncoder\n",
    "from sklearn.metrics import confusion_matrix,classification_report\n",
    "from sklearn.model_selection import train_test_split\n",
    "from sklearn.neural_network import MLPClassifier\n",
    "from sklearn import metrics\n",
    "from IPython.display import Audio\n",
    "\n",
    "from sklearn.tree import DecisionTreeClassifier \n",
    "from sklearn.metrics import accuracy_score\n",
    "from sklearn.metrics import classification_report\n",
    "from sklearn.ensemble import RandomForestClassifier\n",
    "from sklearn.svm import SVC \n",
    "\n",
    "\n"
   ]
  },
  {
   "cell_type": "markdown",
   "id": "42609f9c",
   "metadata": {},
   "source": [
    "# Loading the dataset"
   ]
  },
  {
   "cell_type": "code",
   "execution_count": 2,
   "id": "6bd4dfda",
   "metadata": {},
   "outputs": [
    {
     "data": {
      "text/html": [
       "<div>\n",
       "<style scoped>\n",
       "    .dataframe tbody tr th:only-of-type {\n",
       "        vertical-align: middle;\n",
       "    }\n",
       "\n",
       "    .dataframe tbody tr th {\n",
       "        vertical-align: top;\n",
       "    }\n",
       "\n",
       "    .dataframe thead th {\n",
       "        text-align: right;\n",
       "    }\n",
       "</style>\n",
       "<table border=\"1\" class=\"dataframe\">\n",
       "  <thead>\n",
       "    <tr style=\"text-align: right;\">\n",
       "      <th></th>\n",
       "      <th>Emotions</th>\n",
       "      <th>Paths</th>\n",
       "    </tr>\n",
       "  </thead>\n",
       "  <tbody>\n",
       "    <tr>\n",
       "      <th>0</th>\n",
       "      <td>neutral</td>\n",
       "      <td>C:/Users/hp/Downloads/Speech-Emotion-Recogniza...</td>\n",
       "    </tr>\n",
       "    <tr>\n",
       "      <th>1</th>\n",
       "      <td>neutral</td>\n",
       "      <td>C:/Users/hp/Downloads/Speech-Emotion-Recogniza...</td>\n",
       "    </tr>\n",
       "    <tr>\n",
       "      <th>2</th>\n",
       "      <td>neutral</td>\n",
       "      <td>C:/Users/hp/Downloads/Speech-Emotion-Recogniza...</td>\n",
       "    </tr>\n",
       "    <tr>\n",
       "      <th>3</th>\n",
       "      <td>neutral</td>\n",
       "      <td>C:/Users/hp/Downloads/Speech-Emotion-Recogniza...</td>\n",
       "    </tr>\n",
       "    <tr>\n",
       "      <th>4</th>\n",
       "      <td>calm</td>\n",
       "      <td>C:/Users/hp/Downloads/Speech-Emotion-Recogniza...</td>\n",
       "    </tr>\n",
       "  </tbody>\n",
       "</table>\n",
       "</div>"
      ],
      "text/plain": [
       "  Emotions                                              Paths\n",
       "0  neutral  C:/Users/hp/Downloads/Speech-Emotion-Recogniza...\n",
       "1  neutral  C:/Users/hp/Downloads/Speech-Emotion-Recogniza...\n",
       "2  neutral  C:/Users/hp/Downloads/Speech-Emotion-Recogniza...\n",
       "3  neutral  C:/Users/hp/Downloads/Speech-Emotion-Recogniza...\n",
       "4     calm  C:/Users/hp/Downloads/Speech-Emotion-Recogniza..."
      ]
     },
     "execution_count": 2,
     "metadata": {},
     "output_type": "execute_result"
    }
   ],
   "source": [
    "#loading the dataset from the \"dataset folder and mapping them to obtain a pandas dataframe\"\n",
    "dataset_path = \"C:/Users/hp/Downloads/Speech-Emotion-Recognization-master/Speech-Emotion-Recognization-master/dataset/\"\n",
    "dataDirectorylist = os.listdir(dataset_path)\n",
    "Emotion=[]\n",
    "path=[]\n",
    "for dir in dataDirectorylist:\n",
    "    actor = os.listdir(dataset_path+dir)\n",
    "    for file in actor :\n",
    "        part = file.split('.')[0]\n",
    "        part = part.split('-')\n",
    "        Emotion.append(int(part[2]))\n",
    "        path.append(dataset_path+dir+'//'+file)\n",
    "emotion_df = pd.DataFrame(Emotion,columns=['Emotions'])\n",
    "emotion_df = emotion_df.Emotions.replace({1:'neutral',2: 'calm',3: 'happy',4: 'sad',5: 'angry',6: 'fearful',7: 'disgust',8: 'surprised'})\n",
    "\n",
    "path_df = pd.DataFrame(path,columns=['Paths'])\n",
    "dataset_dataframe = pd.concat([emotion_df,path_df],axis=1)\n",
    "\n",
    "dataset_dataframe.head()\n"
   ]
  },
  {
   "cell_type": "code",
   "execution_count": 3,
   "id": "8bd5f6c0",
   "metadata": {},
   "outputs": [
    {
     "name": "stdout",
     "output_type": "stream",
     "text": [
      "       Emotions                                              Paths\n",
      "0       neutral  C:/Users/hp/Downloads/Speech-Emotion-Recogniza...\n",
      "1       neutral  C:/Users/hp/Downloads/Speech-Emotion-Recogniza...\n",
      "2       neutral  C:/Users/hp/Downloads/Speech-Emotion-Recogniza...\n",
      "3       neutral  C:/Users/hp/Downloads/Speech-Emotion-Recogniza...\n",
      "4          calm  C:/Users/hp/Downloads/Speech-Emotion-Recogniza...\n",
      "...         ...                                                ...\n",
      "1435  surprised  C:/Users/hp/Downloads/Speech-Emotion-Recogniza...\n",
      "1436  surprised  C:/Users/hp/Downloads/Speech-Emotion-Recogniza...\n",
      "1437  surprised  C:/Users/hp/Downloads/Speech-Emotion-Recogniza...\n",
      "1438  surprised  C:/Users/hp/Downloads/Speech-Emotion-Recogniza...\n",
      "1439  surprised  C:/Users/hp/Downloads/Speech-Emotion-Recogniza...\n",
      "\n",
      "[1440 rows x 2 columns]\n"
     ]
    }
   ],
   "source": [
    "#converting the data into a CSV file\n",
    "dataset_dataframe = pd.concat([dataset_dataframe],axis=0)\n",
    "dataset_dataframe.to_csv(\"data_path.csv\",index=False)\n",
    "dataset_dataframe.head\n",
    "dataPath=pd.read_csv(\"data_path.csv\")\n",
    "print(dataPath)"
   ]
  },
  {
   "cell_type": "code",
   "execution_count": 4,
   "id": "459bc4ef",
   "metadata": {},
   "outputs": [
    {
     "name": "stderr",
     "output_type": "stream",
     "text": [
      "C:\\Users\\hp\\anaconda3\\lib\\site-packages\\seaborn\\_decorators.py:36: FutureWarning: Pass the following variable as a keyword arg: x. From version 0.12, the only valid positional argument will be `data`, and passing other arguments without an explicit keyword will result in an error or misinterpretation.\n",
      "  warnings.warn(\n"
     ]
    },
    {
     "data": {
      "image/png": "[encoded data removed]",
      "text/plain": [
       "<Figure size 432x288 with 1 Axes>"
      ]
     },
     "metadata": {
      "needs_background": "light"
     },
     "output_type": "display_data"
    }
   ],
   "source": [
    "#Data Analysis on the data with the file and graphs\n",
    "plt.title(\"Counting Emotions\")\n",
    "sn.countplot(dataPath.Emotions)\n",
    "plt.xlabel('Emotions')\n",
    "plt.ylabel('Count')\n",
    "plt.show()"
   ]
  },
  {
   "cell_type": "code",
   "execution_count": 5,
   "id": "ca76ce7e",
   "metadata": {},
   "outputs": [],
   "source": [
    "def waveplot(data,sr,e) :\n",
    "    plt.figure(figsize=(10,3))\n",
    "    librosa.display.waveshow(data,sr=sr,label=e)\n",
    "    plt.title(e)\n",
    "    plt.show()\n",
    "    Audio(path)\n",
    "    song = AudioSegment.from_wav(path)\n",
    "    print('playing the emotion :',e)\n",
    "    play(song)"
   ]
  },
  {
   "cell_type": "markdown",
   "id": "069c057c",
   "metadata": {},
   "source": [
    "# Data Visualization"
   ]
  },
  {
   "cell_type": "code",
   "execution_count": 6,
   "id": "dd4ae5aa",
   "metadata": {},
   "outputs": [
    {
     "name": "stdout",
     "output_type": "stream",
     "text": [
      "EMOTION :  neutral\n",
      "Chroma Visualization for the emotion:  neutral\n",
      "Spectogram for the emotion  neutral\n"
     ]
    },
    {
     "ename": "AttributeError",
     "evalue": "'QuadMesh' object has no property 'x_axzis'",
     "output_type": "error",
     "traceback": [
      "\u001b[1;31m---------------------------------------------------------------------------\u001b[0m",
      "\u001b[1;31mAttributeError\u001b[0m                            Traceback (most recent call last)",
      "Input \u001b[1;32mIn [6]\u001b[0m, in \u001b[0;36m<cell line: 2>\u001b[1;34m()\u001b[0m\n\u001b[0;32m     12\u001b[0m Xdb \u001b[38;5;241m=\u001b[39m librosa\u001b[38;5;241m.\u001b[39mamplitude_to_db(\u001b[38;5;28mabs\u001b[39m(X))\n\u001b[0;32m     13\u001b[0m plt\u001b[38;5;241m.\u001b[39mfigure(figsize\u001b[38;5;241m=\u001b[39m(\u001b[38;5;241m15\u001b[39m, \u001b[38;5;241m3\u001b[39m))\n\u001b[1;32m---> 14\u001b[0m \u001b[43mlibrosa\u001b[49m\u001b[38;5;241;43m.\u001b[39;49m\u001b[43mdisplay\u001b[49m\u001b[38;5;241;43m.\u001b[39;49m\u001b[43mspecshow\u001b[49m\u001b[43m(\u001b[49m\u001b[43mXdb\u001b[49m\u001b[43m,\u001b[49m\u001b[43m \u001b[49m\u001b[43msr\u001b[49m\u001b[38;5;241;43m=\u001b[39;49m\u001b[43msr\u001b[49m\u001b[43m,\u001b[49m\u001b[43m \u001b[49m\u001b[43mx_axzis\u001b[49m\u001b[38;5;241;43m=\u001b[39;49m\u001b[38;5;124;43m'\u001b[39;49m\u001b[38;5;124;43mtime\u001b[39;49m\u001b[38;5;124;43m'\u001b[39;49m\u001b[43m,\u001b[49m\u001b[43m \u001b[49m\u001b[43my_axis\u001b[49m\u001b[38;5;241;43m=\u001b[39;49m\u001b[38;5;124;43m'\u001b[39;49m\u001b[38;5;124;43mhz\u001b[39;49m\u001b[38;5;124;43m'\u001b[39;49m\u001b[43m)\u001b[49m\n\u001b[0;32m     15\u001b[0m plt\u001b[38;5;241m.\u001b[39mcolorbar()\n\u001b[0;32m     16\u001b[0m \u001b[38;5;28mprint\u001b[39m(\u001b[38;5;124m\"\u001b[39m\u001b[38;5;124mZero Crossing rate for the emotion \u001b[39m\u001b[38;5;124m\"\u001b[39m,emotion)\n",
      "File \u001b[1;32m~\\anaconda3\\lib\\site-packages\\librosa\\util\\decorators.py:88\u001b[0m, in \u001b[0;36mdeprecate_positional_args.<locals>._inner_deprecate_positional_args.<locals>.inner_f\u001b[1;34m(*args, **kwargs)\u001b[0m\n\u001b[0;32m     86\u001b[0m extra_args \u001b[38;5;241m=\u001b[39m \u001b[38;5;28mlen\u001b[39m(args) \u001b[38;5;241m-\u001b[39m \u001b[38;5;28mlen\u001b[39m(all_args)\n\u001b[0;32m     87\u001b[0m \u001b[38;5;28;01mif\u001b[39;00m extra_args \u001b[38;5;241m<\u001b[39m\u001b[38;5;241m=\u001b[39m \u001b[38;5;241m0\u001b[39m:\n\u001b[1;32m---> 88\u001b[0m     \u001b[38;5;28;01mreturn\u001b[39;00m f(\u001b[38;5;241m*\u001b[39margs, \u001b[38;5;241m*\u001b[39m\u001b[38;5;241m*\u001b[39mkwargs)\n\u001b[0;32m     90\u001b[0m \u001b[38;5;66;03m# extra_args > 0\u001b[39;00m\n\u001b[0;32m     91\u001b[0m args_msg \u001b[38;5;241m=\u001b[39m [\n\u001b[0;32m     92\u001b[0m     \u001b[38;5;124m\"\u001b[39m\u001b[38;5;132;01m{}\u001b[39;00m\u001b[38;5;124m=\u001b[39m\u001b[38;5;132;01m{}\u001b[39;00m\u001b[38;5;124m\"\u001b[39m\u001b[38;5;241m.\u001b[39mformat(name, arg)\n\u001b[0;32m     93\u001b[0m     \u001b[38;5;28;01mfor\u001b[39;00m name, arg \u001b[38;5;129;01min\u001b[39;00m \u001b[38;5;28mzip\u001b[39m(kwonly_args[:extra_args], args[\u001b[38;5;241m-\u001b[39mextra_args:])\n\u001b[0;32m     94\u001b[0m ]\n",
      "File \u001b[1;32m~\\anaconda3\\lib\\site-packages\\librosa\\display.py:879\u001b[0m, in \u001b[0;36mspecshow\u001b[1;34m(data, x_coords, y_coords, x_axis, y_axis, sr, hop_length, n_fft, win_length, fmin, fmax, tuning, bins_per_octave, key, Sa, mela, thaat, auto_aspect, htk, unicode, ax, **kwargs)\u001b[0m\n\u001b[0;32m    875\u001b[0m x_coords \u001b[38;5;241m=\u001b[39m __mesh_coords(x_axis, x_coords, data\u001b[38;5;241m.\u001b[39mshape[\u001b[38;5;241m1\u001b[39m], \u001b[38;5;241m*\u001b[39m\u001b[38;5;241m*\u001b[39mall_params)\n\u001b[0;32m    877\u001b[0m axes \u001b[38;5;241m=\u001b[39m __check_axes(ax)\n\u001b[1;32m--> 879\u001b[0m out \u001b[38;5;241m=\u001b[39m axes\u001b[38;5;241m.\u001b[39mpcolormesh(x_coords, y_coords, data, \u001b[38;5;241m*\u001b[39m\u001b[38;5;241m*\u001b[39mkwargs)\n\u001b[0;32m    881\u001b[0m __set_current_image(ax, out)\n\u001b[0;32m    883\u001b[0m \u001b[38;5;66;03m# Set up axis scaling\u001b[39;00m\n",
      "File \u001b[1;32m~\\anaconda3\\lib\\site-packages\\matplotlib\\__init__.py:1412\u001b[0m, in \u001b[0;36m_preprocess_data.<locals>.inner\u001b[1;34m(ax, data, *args, **kwargs)\u001b[0m\n\u001b[0;32m   1409\u001b[0m \u001b[38;5;129m@functools\u001b[39m\u001b[38;5;241m.\u001b[39mwraps(func)\n\u001b[0;32m   1410\u001b[0m \u001b[38;5;28;01mdef\u001b[39;00m \u001b[38;5;21minner\u001b[39m(ax, \u001b[38;5;241m*\u001b[39margs, data\u001b[38;5;241m=\u001b[39m\u001b[38;5;28;01mNone\u001b[39;00m, \u001b[38;5;241m*\u001b[39m\u001b[38;5;241m*\u001b[39mkwargs):\n\u001b[0;32m   1411\u001b[0m     \u001b[38;5;28;01mif\u001b[39;00m data \u001b[38;5;129;01mis\u001b[39;00m \u001b[38;5;28;01mNone\u001b[39;00m:\n\u001b[1;32m-> 1412\u001b[0m         \u001b[38;5;28;01mreturn\u001b[39;00m func(ax, \u001b[38;5;241m*\u001b[39m\u001b[38;5;28mmap\u001b[39m(sanitize_sequence, args), \u001b[38;5;241m*\u001b[39m\u001b[38;5;241m*\u001b[39mkwargs)\n\u001b[0;32m   1414\u001b[0m     bound \u001b[38;5;241m=\u001b[39m new_sig\u001b[38;5;241m.\u001b[39mbind(ax, \u001b[38;5;241m*\u001b[39margs, \u001b[38;5;241m*\u001b[39m\u001b[38;5;241m*\u001b[39mkwargs)\n\u001b[0;32m   1415\u001b[0m     auto_label \u001b[38;5;241m=\u001b[39m (bound\u001b[38;5;241m.\u001b[39marguments\u001b[38;5;241m.\u001b[39mget(label_namer)\n\u001b[0;32m   1416\u001b[0m                   \u001b[38;5;129;01mor\u001b[39;00m bound\u001b[38;5;241m.\u001b[39mkwargs\u001b[38;5;241m.\u001b[39mget(label_namer))\n",
      "File \u001b[1;32m~\\anaconda3\\lib\\site-packages\\matplotlib\\axes\\_axes.py:6070\u001b[0m, in \u001b[0;36mAxes.pcolormesh\u001b[1;34m(self, alpha, norm, cmap, vmin, vmax, shading, antialiased, *args, **kwargs)\u001b[0m\n\u001b[0;32m   6066\u001b[0m C \u001b[38;5;241m=\u001b[39m C\u001b[38;5;241m.\u001b[39mravel()\n\u001b[0;32m   6068\u001b[0m kwargs\u001b[38;5;241m.\u001b[39msetdefault(\u001b[38;5;124m'\u001b[39m\u001b[38;5;124msnap\u001b[39m\u001b[38;5;124m'\u001b[39m, rcParams[\u001b[38;5;124m'\u001b[39m\u001b[38;5;124mpcolormesh.snap\u001b[39m\u001b[38;5;124m'\u001b[39m])\n\u001b[1;32m-> 6070\u001b[0m collection \u001b[38;5;241m=\u001b[39m mcoll\u001b[38;5;241m.\u001b[39mQuadMesh(\n\u001b[0;32m   6071\u001b[0m     coords, antialiased\u001b[38;5;241m=\u001b[39mantialiased, shading\u001b[38;5;241m=\u001b[39mshading,\n\u001b[0;32m   6072\u001b[0m     array\u001b[38;5;241m=\u001b[39mC, cmap\u001b[38;5;241m=\u001b[39mcmap, norm\u001b[38;5;241m=\u001b[39mnorm, alpha\u001b[38;5;241m=\u001b[39malpha, \u001b[38;5;241m*\u001b[39m\u001b[38;5;241m*\u001b[39mkwargs)\n\u001b[0;32m   6073\u001b[0m collection\u001b[38;5;241m.\u001b[39m_scale_norm(norm, vmin, vmax)\n\u001b[0;32m   6074\u001b[0m \u001b[38;5;28mself\u001b[39m\u001b[38;5;241m.\u001b[39m_pcolor_grid_deprecation_helper()\n",
      "File \u001b[1;32m~\\anaconda3\\lib\\site-packages\\matplotlib\\collections.py:2016\u001b[0m, in \u001b[0;36mQuadMesh.__init__\u001b[1;34m(self, *args, **kwargs)\u001b[0m\n\u001b[0;32m   2013\u001b[0m \u001b[38;5;28mself\u001b[39m\u001b[38;5;241m.\u001b[39m_bbox\u001b[38;5;241m.\u001b[39mupdate_from_data_xy(\u001b[38;5;28mself\u001b[39m\u001b[38;5;241m.\u001b[39m_coordinates\u001b[38;5;241m.\u001b[39mreshape(\u001b[38;5;241m-\u001b[39m\u001b[38;5;241m1\u001b[39m, \u001b[38;5;241m2\u001b[39m))\n\u001b[0;32m   2014\u001b[0m \u001b[38;5;66;03m# super init delayed after own init because array kwarg requires\u001b[39;00m\n\u001b[0;32m   2015\u001b[0m \u001b[38;5;66;03m# self._coordinates and self._shading\u001b[39;00m\n\u001b[1;32m-> 2016\u001b[0m \u001b[38;5;28msuper\u001b[39m()\u001b[38;5;241m.\u001b[39m\u001b[38;5;21m__init__\u001b[39m(\u001b[38;5;241m*\u001b[39m\u001b[38;5;241m*\u001b[39mkwargs)\n",
      "File \u001b[1;32m~\\anaconda3\\lib\\site-packages\\matplotlib\\collections.py:221\u001b[0m, in \u001b[0;36mCollection.__init__\u001b[1;34m(self, edgecolors, facecolors, linewidths, linestyles, capstyle, joinstyle, antialiaseds, offsets, transOffset, norm, cmap, pickradius, hatch, urls, zorder, **kwargs)\u001b[0m\n\u001b[0;32m    218\u001b[0m \u001b[38;5;28mself\u001b[39m\u001b[38;5;241m.\u001b[39m_transOffset \u001b[38;5;241m=\u001b[39m transOffset\n\u001b[0;32m    220\u001b[0m \u001b[38;5;28mself\u001b[39m\u001b[38;5;241m.\u001b[39m_path_effects \u001b[38;5;241m=\u001b[39m \u001b[38;5;28;01mNone\u001b[39;00m\n\u001b[1;32m--> 221\u001b[0m \u001b[38;5;28;43mself\u001b[39;49m\u001b[38;5;241;43m.\u001b[39;49m\u001b[43mupdate\u001b[49m\u001b[43m(\u001b[49m\u001b[43mkwargs\u001b[49m\u001b[43m)\u001b[49m\n\u001b[0;32m    222\u001b[0m \u001b[38;5;28mself\u001b[39m\u001b[38;5;241m.\u001b[39m_paths \u001b[38;5;241m=\u001b[39m \u001b[38;5;28;01mNone\u001b[39;00m\n",
      "File \u001b[1;32m~\\anaconda3\\lib\\site-packages\\matplotlib\\artist.py:1064\u001b[0m, in \u001b[0;36mArtist.update\u001b[1;34m(self, props)\u001b[0m\n\u001b[0;32m   1062\u001b[0m             func \u001b[38;5;241m=\u001b[39m \u001b[38;5;28mgetattr\u001b[39m(\u001b[38;5;28mself\u001b[39m, \u001b[38;5;124mf\u001b[39m\u001b[38;5;124m\"\u001b[39m\u001b[38;5;124mset_\u001b[39m\u001b[38;5;132;01m{\u001b[39;00mk\u001b[38;5;132;01m}\u001b[39;00m\u001b[38;5;124m\"\u001b[39m, \u001b[38;5;28;01mNone\u001b[39;00m)\n\u001b[0;32m   1063\u001b[0m             \u001b[38;5;28;01mif\u001b[39;00m \u001b[38;5;129;01mnot\u001b[39;00m callable(func):\n\u001b[1;32m-> 1064\u001b[0m                 \u001b[38;5;28;01mraise\u001b[39;00m \u001b[38;5;167;01mAttributeError\u001b[39;00m(\u001b[38;5;124mf\u001b[39m\u001b[38;5;124m\"\u001b[39m\u001b[38;5;132;01m{\u001b[39;00m\u001b[38;5;28mtype\u001b[39m(\u001b[38;5;28mself\u001b[39m)\u001b[38;5;241m.\u001b[39m\u001b[38;5;18m__name__\u001b[39m\u001b[38;5;132;01m!r}\u001b[39;00m\u001b[38;5;124m object \u001b[39m\u001b[38;5;124m\"\u001b[39m\n\u001b[0;32m   1065\u001b[0m                                      \u001b[38;5;124mf\u001b[39m\u001b[38;5;124m\"\u001b[39m\u001b[38;5;124mhas no property \u001b[39m\u001b[38;5;132;01m{\u001b[39;00mk\u001b[38;5;132;01m!r}\u001b[39;00m\u001b[38;5;124m\"\u001b[39m)\n\u001b[0;32m   1066\u001b[0m             ret\u001b[38;5;241m.\u001b[39mappend(func(v))\n\u001b[0;32m   1067\u001b[0m \u001b[38;5;28;01mif\u001b[39;00m ret:\n",
      "\u001b[1;31mAttributeError\u001b[0m: 'QuadMesh' object has no property 'x_axzis'"
     ]
    },
    {
     "data": {
      "image/png": "[encoded data removed]",
      "text/plain": [
       "<Figure size 1080x216 with 1 Axes>"
      ]
     },
     "metadata": {
      "needs_background": "light"
     },
     "output_type": "display_data"
    }
   ],
   "source": [
    "emotions_list=['neutral','calm','happy','sad','angry','fearful','disgust','surprised']\n",
    "for emotion in emotions_list :\n",
    "    print(\"EMOTION : \",emotion)\n",
    "    print(\"Chroma Visualization for the emotion: \",emotion)\n",
    "    print(\"Spectogram for the emotion \",emotion)\n",
    "    df=dataPath\n",
    "    \n",
    "    path=np.array(df.Paths[df.Emotions==emotion])[4]\n",
    "    \n",
    "    x, sr = librosa.load(path)\n",
    "    X = librosa.stft(x)\n",
    "    Xdb = librosa.amplitude_to_db(abs(X))\n",
    "    plt.figure(figsize=(15, 3))\n",
    "    librosa.display.specshow(Xdb, sr=sr, x_axzis='time', y_axis='hz')\n",
    "    plt.colorbar()\n",
    "    print(\"Zero Crossing rate for the emotion \",emotion)\n",
    "    y, sr = librosa.load(path)\n",
    "    zcrs = librosa.feature.zero_crossing_rate(y)\n",
    "    print(f\"Zero crossing rate: {sum(librosa.zero_crossings(y))}\")\n",
    "    plt.figure(figsize=(15, 3))\n",
    "    plt.plot(zcrs[0])\n",
    "    plt.title(emotion)\n",
    "    data,samplingrate=librosa.load(path)\n",
    "    waveplot(data,samplingrate,emotion)\n",
    "    \n",
    "    "
   ]
  },
  {
   "cell_type": "code",
   "execution_count": null,
   "id": "4d1cdf45",
   "metadata": {},
   "outputs": [],
   "source": [
    "def noise(data) :\n",
    "    noiseAmp=0.035*np.random.uniform()*np.amax(data)\n",
    "    data = data+noiseAmp*np.random.normal(size=data.shape[0])\n",
    "    return data\n",
    "def stretch(data,rate=0.8) :\n",
    "    return librosa.effects.time_stretch(data,rate)\n",
    "def shift(data) :\n",
    "    shiftrange=int(np.random.uniform(low=-5,high=5)*1000)\n",
    "    return np.roll(data,shiftrange)\n",
    "def pitch(data,samplingRate,pitchFactor=0.7) :\n",
    "    return librosa.effects.pitch_shift(data,samplingRate,pitchFactor)\n"
   ]
  },
  {
   "cell_type": "code",
   "execution_count": null,
   "id": "b9f9acde",
   "metadata": {},
   "outputs": [],
   "source": [
    "x=noise(data)\n",
    "plt.figure(figsize=(14,2))\n",
    "librosa.display.waveshow(y=x,sr=samplingrate)\n",
    "song = AudioSegment.from_wav(path)\n",
    "print(\"Playing.......\")\n",
    "play(song)\n",
    "\n"
   ]
  },
  {
   "cell_type": "code",
   "execution_count": null,
   "id": "fcf24123",
   "metadata": {},
   "outputs": [],
   "source": [
    "x=stretch(data)\n",
    "plt.figure(figsize=(14,2))\n",
    "librosa.display.waveshow(y=x,sr=samplingrate)\n",
    "song = AudioSegment.from_wav(path)\n",
    "print(\"Playing.......\")\n",
    "play(song)\n",
    "\n",
    "\n"
   ]
  },
  {
   "cell_type": "code",
   "execution_count": null,
   "id": "5e8f104b",
   "metadata": {},
   "outputs": [],
   "source": [
    "x=shift(data)\n",
    "plt.figure(figsize=(14,2))\n",
    "librosa.display.waveshow(y=x,sr=samplingrate)\n",
    "song = AudioSegment.from_wav(path)\n",
    "print(\"Playing.......\")\n",
    "play(song)\n",
    "\n"
   ]
  },
  {
   "cell_type": "code",
   "execution_count": null,
   "id": "ef406e22",
   "metadata": {},
   "outputs": [],
   "source": [
    "x=pitch(data,samplingrate)\n",
    "plt.figure(figsize=(14,2))\n",
    "librosa.display.waveshow(y=x,sr=samplingrate)\n",
    "song = AudioSegment.from_wav(path)\n",
    "print(\"Playing.......\")\n",
    "play(song)\n"
   ]
  },
  {
   "cell_type": "markdown",
   "id": "c6398143",
   "metadata": {},
   "source": [
    "# Feature Extraction"
   ]
  },
  {
   "cell_type": "code",
   "execution_count": null,
   "id": "4dca0da5",
   "metadata": {},
   "outputs": [],
   "source": [
    "def extract_feature(file_name, **kwargs):\n",
    "    mfcc = kwargs.get(\"mfcc\")\n",
    "    chroma = kwargs.get(\"chroma\")\n",
    "    mel = kwargs.get(\"mel\")\n",
    "    contrast = kwargs.get(\"contrast\")\n",
    "    tonnetz = kwargs.get(\"tonnetz\")\n",
    "    with soundfile.SoundFile(file_name) as sound_file:\n",
    "        X = sound_file.read(dtype=\"float32\")\n",
    "        sample_rate = sound_file.samplerate\n",
    "        if chroma or contrast:\n",
    "            stft = np.abs(librosa.stft(X))\n",
    "        result = np.array([])\n",
    "        if mfcc:\n",
    "            mfccs = np.mean(librosa.feature.mfcc(y=X, sr=sample_rate, n_mfcc=40).T, axis=0)\n",
    "            result = np.hstack((result, mfccs))\n",
    "        if chroma:\n",
    "            chroma = np.mean(librosa.feature.chroma_stft(S=stft, sr=sample_rate).T,axis=0)\n",
    "            result = np.hstack((result, chroma))\n",
    "        if mel:d\n",
    "            mel = np.mean(librosa.feature.melspectrogram(X, sr=sample_rate).T,axis=0)\n",
    "            result = np.hstack((result, mel))\n",
    "        if contrast:\n",
    "            contrast = np.mean(librosa.feature.spectral_contrast(S=stft, sr=sample_rate).T,axis=0)\n",
    "            result = np.hstack((result, contrast))\n",
    "        if tonnetz:\n",
    "            tonnetz = np.mean(librosa.feature.tonnetz(y=librosa.effects.harmonic(X), sr=sample_rate).T,axis=0)\n",
    "            result = np.hstack((result, tonnetz))\n",
    "    return result"
   ]
  },
  {
   "cell_type": "code",
   "execution_count": null,
   "id": "05001b02",
   "metadata": {},
   "outputs": [],
   "source": [
    "emotions={\n",
    "  '01':'neutral',\n",
    "  '02':'calm',\n",
    "  '03':'happy',\n",
    "  '04':'sad',\n",
    "  '05':'angry',\n",
    "  '06':'fearful',\n",
    "  '07':'disgust',\n",
    "  '08':'surprised'\n",
    "}"
   ]
  },
  {
   "cell_type": "code",
   "execution_count": null,
   "id": "c84ec312",
   "metadata": {},
   "outputs": [],
   "source": [
    "def load_data(test_size=0.2):\n",
    "    x,y=[],[]\n",
    "    for file in glob.glob(\"dataset//Actor_*//*.wav\"):\n",
    "        print(file,end=\"\")\n",
    "        filename=os.path.basename(file)\n",
    "        emotion=emotions[(filename.split(\"-\")[2])]\n",
    "        print(\"\",emotion)\n",
    "        feature=extract_feature(file, mfcc=True, chroma=True, mel=True)\n",
    "        x.append(feature)\n",
    "        y.append(emotion)\n",
    "    return train_test_split(np.array(x), y, test_size=test_size, random_state=9)"
   ]
  },
  {
   "cell_type": "code",
   "execution_count": null,
   "id": "eebe2e97",
   "metadata": {},
   "outputs": [],
   "source": [
    "x_train,x_test,y_train,y_test=load_data(test_size=0.25)\n",
    "print(x_train.shape)"
   ]
  },
  {
   "cell_type": "code",
   "execution_count": null,
   "id": "9894e451",
   "metadata": {},
   "outputs": [],
   "source": [
    "print(x_train.shape)\n",
    "print(x_test.shape)"
   ]
  },
  {
   "cell_type": "code",
   "execution_count": null,
   "id": "6f61b415",
   "metadata": {},
   "outputs": [],
   "source": [
    "print(\"Number of training samples:\", x_train.shape[0])\n",
    "print(\" Number of testing samples:\", x_test.shape[0])"
   ]
  },
  {
   "cell_type": "markdown",
   "id": "f5f0e982",
   "metadata": {},
   "source": [
    "# MLP Classifier"
   ]
  },
  {
   "cell_type": "code",
   "execution_count": null,
   "id": "498b682f",
   "metadata": {},
   "outputs": [],
   "source": [
    "myclassifier=MLPClassifier(alpha=0.01, batch_size=256, epsilon=1e-08, hidden_layer_sizes=(300,), learning_rate='adaptive', max_iter=500)\n",
    "myclassifier.fit(x_train,y_train)"
   ]
  },
  {
   "cell_type": "code",
   "execution_count": null,
   "id": "06df9d51",
   "metadata": {},
   "outputs": [],
   "source": [
    "expected_y=y_test\n",
    "actual_y=myclassifier.predict(x_test)\n",
    "print(metrics.confusion_matrix(expected_y,actual_y))\n",
    "print(accuracy_score(y_true=y_test,y_pred=dtree_predictions))\n",
    "print(classification_report(expected_y,actual_y))"
   ]
  },
  {
   "cell_type": "code",
   "execution_count": null,
   "id": "6d414095",
   "metadata": {},
   "outputs": [],
   "source": [
    "cm = confusion_matrix(expected_y,actual_y)\n",
    "cm_df = pd.DataFrame(cm,index = ['Angry','Calm','Disgust','Fearful','Happy','Neutral','Sad','Surprised'], columns = ['Angry','Calm','Disgust','Fearful','Happy','Neutral','Sad','Surprised'])\n",
    "plt.figure(figsize=(5,4))\n",
    "sn.heatmap(cm_df,annot=True)\n",
    "plt.title('Confusion Matrix')\n",
    "plt.ylabel('Actal Values')\n",
    "plt.xlabel('Predicted Values')\n",
    "plt.show()"
   ]
  },
  {
   "cell_type": "markdown",
   "id": "cff70dd6",
   "metadata": {
    "scrolled": true
   },
   "source": [
    "# Decision Tree Classifier "
   ]
  },
  {
   "cell_type": "code",
   "execution_count": null,
   "id": "7be51a68",
   "metadata": {},
   "outputs": [],
   "source": [
    "dtree_model = DecisionTreeClassifier(max_depth = 6).fit(x_train, y_train) \n",
    "dtree_predictions = dtree_model.predict(x_test) \n",
    "print(accuracy_score(y_true=y_test,y_pred=dtree_predictions))\n",
    "print(classification_report(y_test,dtree_predictions)) \n",
    "print(confusion_matrix(y_test, dtree_predictions) )"
   ]
  },
  {
   "cell_type": "markdown",
   "id": "6322795d",
   "metadata": {},
   "source": [
    "# Support Vector Classifier"
   ]
  },
  {
   "cell_type": "code",
   "execution_count": null,
   "id": "0f3a1c17",
   "metadata": {},
   "outputs": [],
   "source": [
    "svm_model_linear = SVC(kernel = 'linear', C = 1).fit(x_train, y_train) \n",
    "svm_predictions = svm_model_linear.predict(x_test) \n",
    "print(accuracy_score(y_true=y_test,y_pred=svm_predictions))\n",
    "print(classification_report(y_test,svm_predictions)) \n",
    "print(confusion_matrix(y_test, svm_predictions) )"
   ]
  },
  {
   "cell_type": "markdown",
   "id": "b60418bc",
   "metadata": {},
   "source": [
    "# Random Forest Classifier "
   ]
  },
  {
   "cell_type": "code",
   "execution_count": null,
   "id": "af3e04eb",
   "metadata": {},
   "outputs": [],
   "source": [
    "classifier = RandomForestClassifier(n_estimators = 100, random_state = 0) \n",
    "classifier.fit(x_train, y_train)   \n",
    "c_p = classifier.predict(x_test) \n",
    "print(accuracy_score(y_true=y_test,y_pred=c_p))\n",
    "print(classification_report(y_test,c_p)) \n",
    "print(confusion_matrix(y_test,c_p) )"
   ]
  }
 ],
 "metadata": {
  "kernelspec": {
   "display_name": "Python 3 (ipykernel)",
   "language": "python",
   "name": "python3"
  },
  "language_info": {
   "codemirror_mode": {
    "name": "ipython",
    "version": 3
   },
   "file_extension": ".py",
   "mimetype": "text/x-python",
   "name": "python",
   "nbconvert_exporter": "python",
   "pygments_lexer": "ipython3",
   "version": "3.9.12"
  }
 },
 "nbformat": 4,
 "nbformat_minor": 5
}
